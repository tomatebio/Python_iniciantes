{
 "cells": [
  {
   "cell_type": "markdown",
   "metadata": {},
   "source": [
    "# Curso de Python"
   ]
  },
  {
   "cell_type": "markdown",
   "metadata": {},
   "source": [
    " Existem várias formas de rodar programas em Python neste curso vamos usar o jupyter notebook para rodar os programas em Python. O Jupyter notebook é um modo fácil e organizado de rodar Python facilitando o aprendizado.\n",
    " \n",
    " Cada célula é executada como um pequeno bloco. Blocos pequenos facilitam a aprendizado e também a correção de erros. Em programas mais maduros é possível juntar todos os blocos e rodar de uma vez só, facilitando a execução. \n",
    " "
   ]
  },
  {
   "cell_type": "markdown",
   "metadata": {},
   "source": [
    "## Usando como uma calculadora\n",
    "  Se você digitar 2+2 em uma célula e pedir para rodar o Python irá analisar, resolver a expressão  e retornar o resultado"
   ]
  },
  {
   "cell_type": "code",
   "execution_count": 10,
   "metadata": {},
   "outputs": [
    {
     "data": {
      "text/plain": [
       "4"
      ]
     },
     "execution_count": 10,
     "metadata": {},
     "output_type": "execute_result"
    }
   ],
   "source": [
    "2+2"
   ]
  },
  {
   "cell_type": "markdown",
   "metadata": {},
   "source": [
    "Outras operações matemáticas podem ser usadas  como:\n",
    "\n",
    " \"+\"  adição\n",
    " \n",
    " \"-\" subtração\n",
    " \n",
    " \"*\" multiplicação\n",
    "\n",
    "\"/\" divisão\n",
    " \n",
    " O Python usa ponto para separar casas decimais"
   ]
  },
  {
   "cell_type": "code",
   "execution_count": 11,
   "metadata": {},
   "outputs": [
    {
     "data": {
      "text/plain": [
       "7.0"
      ]
     },
     "execution_count": 11,
     "metadata": {},
     "output_type": "execute_result"
    }
   ],
   "source": [
    "2 * 3.5"
   ]
  },
  {
   "cell_type": "code",
   "execution_count": 12,
   "metadata": {},
   "outputs": [
    {
     "data": {
      "text/plain": [
       "3.5"
      ]
     },
     "execution_count": 12,
     "metadata": {},
     "output_type": "execute_result"
    }
   ],
   "source": [
    "7/2"
   ]
  },
  {
   "cell_type": "markdown",
   "metadata": {},
   "source": [
    "O Python resolve as expressões matemáticas da esquerda para a direita respeitando a precedência dos operadores. Primeiro multiplicação e divisão e depois adição e subtração.  "
   ]
  },
  {
   "cell_type": "code",
   "execution_count": 13,
   "metadata": {},
   "outputs": [
    {
     "data": {
      "text/plain": [
       "7"
      ]
     },
     "execution_count": 13,
     "metadata": {},
     "output_type": "execute_result"
    }
   ],
   "source": [
    "1+2*3"
   ]
  },
  {
   "cell_type": "markdown",
   "metadata": {},
   "source": [
    "É possível alterar a precedência agrupando com parenteses simples (), duplos (()), etc . Não é possivel usar colchetes ou chaves para isso. "
   ]
  },
  {
   "cell_type": "code",
   "execution_count": 14,
   "metadata": {},
   "outputs": [
    {
     "data": {
      "text/plain": [
       "9"
      ]
     },
     "execution_count": 14,
     "metadata": {},
     "output_type": "execute_result"
    }
   ],
   "source": [
    "(1+2)*3"
   ]
  },
  {
   "cell_type": "markdown",
   "metadata": {},
   "source": [
    "##  Conversor de dólares 1.0 \n",
    "\n",
    "Vamos criar uma calculadora para converter os preços de Reais para Dólares americanos. Hoje a cotação do dólar é de R\\$ 4,04. Entao para converter US \\$ 15,50 em reais:"
   ]
  },
  {
   "cell_type": "code",
   "execution_count": 15,
   "metadata": {},
   "outputs": [
    {
     "data": {
      "text/plain": [
       "62.62"
      ]
     },
     "execution_count": 15,
     "metadata": {},
     "output_type": "execute_result"
    }
   ],
   "source": [
    "15.50* 4.04"
   ]
  },
  {
   "cell_type": "markdown",
   "metadata": {},
   "source": [
    "Um modo mais simples de fazer isso é guardar o valor na memória do computador, deste modo"
   ]
  },
  {
   "cell_type": "code",
   "execution_count": 16,
   "metadata": {
    "collapsed": true
   },
   "outputs": [],
   "source": [
    "d=4.04"
   ]
  },
  {
   "cell_type": "markdown",
   "metadata": {},
   "source": [
    "O valor foi guardado na memória do computador usando o simbolo \"d\". Vamos ver melhor como o computador lida com isso mais a frente. Por agora, veja que para fazer a conversão você pode usar o simbolo ao inves do valor."
   ]
  },
  {
   "cell_type": "code",
   "execution_count": 17,
   "metadata": {},
   "outputs": [
    {
     "data": {
      "text/plain": [
       "62.62"
      ]
     },
     "execution_count": 17,
     "metadata": {},
     "output_type": "execute_result"
    }
   ],
   "source": [
    "15.50 * d"
   ]
  },
  {
   "cell_type": "markdown",
   "metadata": {},
   "source": [
    "Você pode fazer a conversão de vários números ao mesmo tempo. Basta separar por virgulas. Vamos converter  US\\$ 14,60 ,  US\\$ 20,10  e US\\$ 31,00."
   ]
  },
  {
   "cell_type": "code",
   "execution_count": 18,
   "metadata": {},
   "outputs": [
    {
     "data": {
      "text/plain": [
       "(58.984, 81.20400000000001, 125.24)"
      ]
     },
     "execution_count": 18,
     "metadata": {},
     "output_type": "execute_result"
    }
   ],
   "source": [
    "14.60 *d ,20.10 *d , 31.00*d"
   ]
  },
  {
   "cell_type": "markdown",
   "metadata": {},
   "source": [
    "O número de casas decimais é bem maior que o possível para unidade monetária vamos corrigir isso mais a frente. Agora  vamos ver a vantagem te ter guardado o valor de conversão em um simbolo. Se a cotação do dólar mudar para R$ 3,40 você não precisa reescrever todo o código. Basta mudar o valor de \"d\" e rodar o programa outra vez."
   ]
  },
  {
   "cell_type": "code",
   "execution_count": 19,
   "metadata": {
    "collapsed": true
   },
   "outputs": [],
   "source": [
    "d= 3.40"
   ]
  },
  {
   "cell_type": "markdown",
   "metadata": {},
   "source": [
    "Para ver isso funcionando rode a célula anterior para alterar o valor de \"d\" na memória do computador. Depois volte a célula que possui os três valores e rode novamente para obter os novos valores."
   ]
  },
  {
   "cell_type": "markdown",
   "metadata": {},
   "source": [
    "## Tipos de dados\n",
    "\n",
    "Como você acabou de ver o Python pode avaliar uma expressão. O Python vai avaliar uma expressão como um único valor. Os valores são classificados em *tipos de dados* sendo que cada valor deve pertencer a um tipo de dado. \n",
    "\n",
    "Os tipos de dados mais comuns em Python são:\n",
    "\n",
    "- **Inteiros** (int): representam números inteiros como: -1, 2, 40, -50, 90\n",
    "- **Números de ponto flutuante** (float): representam números com casas decimais como: 3.14, 4.56, 5.0\n",
    "- **Strings** (str): conjunto de caracteres como: \"spam\", \"IFSP\", \"Bom dia\", \"34\", \"54T\" (sempre entre aspas)\n",
    "\n",
    "Existem outros tipos de dados que veremos em outras aulas.\n",
    "\n",
    "Se você digitar um valor qualquer o Python retorna o mesmo valor na sequência "
   ]
  },
  {
   "cell_type": "code",
   "execution_count": 20,
   "metadata": {},
   "outputs": [
    {
     "data": {
      "text/plain": [
       "'Bom dia'"
      ]
     },
     "execution_count": 20,
     "metadata": {},
     "output_type": "execute_result"
    }
   ],
   "source": [
    "\"Bom dia\""
   ]
  },
  {
   "cell_type": "markdown",
   "metadata": {},
   "source": [
    "Se você digitar uma string e esquecer as aspas o Python vai reclamar"
   ]
  },
  {
   "cell_type": "code",
   "execution_count": 21,
   "metadata": {},
   "outputs": [
    {
     "ename": "SyntaxError",
     "evalue": "EOL while scanning string literal (<ipython-input-21-fd4e9dfcf990>, line 1)",
     "output_type": "error",
     "traceback": [
      "\u001b[0;36m  File \u001b[0;32m\"<ipython-input-21-fd4e9dfcf990>\"\u001b[0;36m, line \u001b[0;32m1\u001b[0m\n\u001b[0;31m    \"Bom dia\u001b[0m\n\u001b[0m            ^\u001b[0m\n\u001b[0;31mSyntaxError\u001b[0m\u001b[0;31m:\u001b[0m EOL while scanning string literal\n"
     ]
    }
   ],
   "source": [
    "\"Bom dia"
   ]
  },
  {
   "cell_type": "markdown",
   "metadata": {},
   "source": [
    "Veja que além de dizer que há um erro a mensagem aponta onde está o erro. Para entender o que está errado você pode copiar a mensagem de erro \"SyntaxError: EOL while scanning string literal\" e pesquisar na Internet. "
   ]
  },
  {
   "cell_type": "markdown",
   "metadata": {},
   "source": [
    "### Concatenação de strings\n",
    "\n",
    "Em Python você pode usar os operadores para lidar com strings. Por exemplo, o operador \"+\" pode concatenar duas strings"
   ]
  },
  {
   "cell_type": "code",
   "execution_count": 22,
   "metadata": {},
   "outputs": [
    {
     "data": {
      "text/plain": [
       "'Bom dia'"
      ]
     },
     "execution_count": 22,
     "metadata": {},
     "output_type": "execute_result"
    }
   ],
   "source": [
    "\"Bom\"+\" dia\""
   ]
  },
  {
   "cell_type": "markdown",
   "metadata": {},
   "source": [
    "Veja que a segunda string possuia um espaço em branco  e por isso o resultado tem um espaço entre as duas palavras. Isso só é possível pois o Python interpreta que a reposta esperada seja uma única string pois a entrada só tinha strings.  Veja o que acontece quando você mistura string com inteiros usando o operador \"+\"."
   ]
  },
  {
   "cell_type": "code",
   "execution_count": 23,
   "metadata": {},
   "outputs": [
    {
     "ename": "TypeError",
     "evalue": "Can't convert 'int' object to str implicitly",
     "output_type": "error",
     "traceback": [
      "\u001b[0;31m---------------------------------------------------------------------------\u001b[0m",
      "\u001b[0;31mTypeError\u001b[0m                                 Traceback (most recent call last)",
      "\u001b[0;32m<ipython-input-23-a6da00769c50>\u001b[0m in \u001b[0;36m<module>\u001b[0;34m\u001b[0m\n\u001b[0;32m----> 1\u001b[0;31m \u001b[0;34m\"Bom dia\"\u001b[0m\u001b[0;34m+\u001b[0m\u001b[0;36m39\u001b[0m\u001b[0;34m\u001b[0m\u001b[0m\n\u001b[0m",
      "\u001b[0;31mTypeError\u001b[0m: Can't convert 'int' object to str implicitly"
     ]
    }
   ],
   "source": [
    "\"Bom dia\"+39"
   ]
  },
  {
   "cell_type": "markdown",
   "metadata": {},
   "source": [
    "Pois é, o Python não sabe o que fazer com uma string e um número usando o operador \"+\". A frase  de erro diz \"que não é possível converter o número para uma string\", ou seja, ele não sabia se devia converter o inteiro em string  para juntar os dois. Veremos como fazer estas conversões mais a frente. Por enquanto, é possível resolver isso colocando aspas em volta do número."
   ]
  },
  {
   "cell_type": "code",
   "execution_count": 24,
   "metadata": {},
   "outputs": [
    {
     "data": {
      "text/plain": [
       "'Bom dia39'"
      ]
     },
     "execution_count": 24,
     "metadata": {},
     "output_type": "execute_result"
    }
   ],
   "source": [
    "\"Bom dia\"+\"39\""
   ]
  },
  {
   "cell_type": "markdown",
   "metadata": {},
   "source": [
    "Outro operador matemático que funciona com strings é o '\\*' . Entre inteiros e pontos flutuantes este  operador faz a multiplicação entre os dois. Com strings ele repete a string."
   ]
  },
  {
   "cell_type": "code",
   "execution_count": 25,
   "metadata": {},
   "outputs": [
    {
     "data": {
      "text/plain": [
       "'Fome Fome Fome Fome Fome '"
      ]
     },
     "execution_count": 25,
     "metadata": {},
     "output_type": "execute_result"
    }
   ],
   "source": [
    "\"Fome \"*5 "
   ]
  },
  {
   "cell_type": "markdown",
   "metadata": {},
   "source": [
    "Veja que o retorno é uma única string com os valores repetidos. Este operador só funciona entre uma string e um número inteiro. Não vai funcionar entre string e ponto flutuante ou entre string e outra string. Isso faz sentido pois não tem como repetir uma palavra por um número fracionário nem multiplicar entre palavras."
   ]
  },
  {
   "cell_type": "code",
   "execution_count": 26,
   "metadata": {},
   "outputs": [
    {
     "ename": "TypeError",
     "evalue": "can't multiply sequence by non-int of type 'float'",
     "output_type": "error",
     "traceback": [
      "\u001b[0;31m---------------------------------------------------------------------------\u001b[0m",
      "\u001b[0;31mTypeError\u001b[0m                                 Traceback (most recent call last)",
      "\u001b[0;32m<ipython-input-26-8194c3eb1a90>\u001b[0m in \u001b[0;36m<module>\u001b[0;34m\u001b[0m\n\u001b[0;32m----> 1\u001b[0;31m \u001b[0;34m\"Fome\"\u001b[0m \u001b[0;34m*\u001b[0m \u001b[0;36m5.0\u001b[0m\u001b[0;34m\u001b[0m\u001b[0m\n\u001b[0m",
      "\u001b[0;31mTypeError\u001b[0m: can't multiply sequence by non-int of type 'float'"
     ]
    }
   ],
   "source": [
    "\"Fome\" * 5.0"
   ]
  },
  {
   "cell_type": "code",
   "execution_count": 27,
   "metadata": {},
   "outputs": [
    {
     "ename": "TypeError",
     "evalue": "can't multiply sequence by non-int of type 'str'",
     "output_type": "error",
     "traceback": [
      "\u001b[0;31m---------------------------------------------------------------------------\u001b[0m",
      "\u001b[0;31mTypeError\u001b[0m                                 Traceback (most recent call last)",
      "\u001b[0;32m<ipython-input-27-c807a8fbcc09>\u001b[0m in \u001b[0;36m<module>\u001b[0;34m\u001b[0m\n\u001b[0;32m----> 1\u001b[0;31m \u001b[0;34m\"Fome\"\u001b[0m \u001b[0;34m*\u001b[0m \u001b[0;34m\"sempre\"\u001b[0m\u001b[0;34m\u001b[0m\u001b[0m\n\u001b[0m",
      "\u001b[0;31mTypeError\u001b[0m: can't multiply sequence by non-int of type 'str'"
     ]
    }
   ],
   "source": [
    "\"Fome\" * \"sempre\""
   ]
  },
  {
   "cell_type": "markdown",
   "metadata": {},
   "source": [
    "## Variáveis\n",
    "\n",
    "Em linguagens de programação **variáveis** apontam para endereços de memória no qual está armazenado um valor. Na prática, podemos dizer que variáveis são palavras que simbolizam valores guardados na memória do computador (memória RAM) e que podem ser usados para realização de operações.\n",
    "\n",
    "Uma analogia muito usada é que uma variável é como se fosse uma etiqueta em uma caixa. Quando você quer guardar algo para usar depois você coloca este objeto numa caixa e coloca uma etiqueta nessa caixa para poder achar depois. Por exemplo, você guarda R\\$ 100,00 numa caixa e coloca a etiqueta \"água\" para que depois você possa pegar este dinheiro para pagar a conta de água.\n",
    "\n",
    "Em Python você pode guardar a informação criando uma variável e atibuindo a mesma o valor.\n",
    "\n"
   ]
  },
  {
   "cell_type": "code",
   "execution_count": 28,
   "metadata": {},
   "outputs": [],
   "source": [
    "agua=100"
   ]
  },
  {
   "cell_type": "markdown",
   "metadata": {},
   "source": [
    "A linha acima cria a variável \"agua\" e atribui a ela o valor 100. Este valor fica guardado na memória do computador até que o programa termine de rodar ou que o computador seja desligado.\n",
    "\n",
    "Se você quiser saber o valor que está guardado na variável \"agua\" basta você imprimir a variável."
   ]
  },
  {
   "cell_type": "code",
   "execution_count": 29,
   "metadata": {},
   "outputs": [
    {
     "name": "stdout",
     "output_type": "stream",
     "text": [
      "100\n"
     ]
    }
   ],
   "source": [
    "print(agua)"
   ]
  },
  {
   "cell_type": "markdown",
   "metadata": {},
   "source": [
    "Você pode usar a variável para fazer contas "
   ]
  },
  {
   "cell_type": "code",
   "execution_count": 30,
   "metadata": {},
   "outputs": [
    {
     "data": {
      "text/plain": [
       "110"
      ]
     },
     "execution_count": 30,
     "metadata": {},
     "output_type": "execute_result"
    }
   ],
   "source": [
    "agua+10"
   ]
  },
  {
   "cell_type": "markdown",
   "metadata": {},
   "source": [
    "Vamos criar uma variável chamada \"luz\" e atribuir o valor R\\$ 80.00 e somar com a variável \"água\"."
   ]
  },
  {
   "cell_type": "code",
   "execution_count": 31,
   "metadata": {},
   "outputs": [
    {
     "data": {
      "text/plain": [
       "180"
      ]
     },
     "execution_count": 31,
     "metadata": {},
     "output_type": "execute_result"
    }
   ],
   "source": [
    "luz=80\n",
    "agua+luz"
   ]
  },
  {
   "cell_type": "markdown",
   "metadata": {},
   "source": [
    "É possivel sobrescrever uma variável. Basta atribuir um novo valor para a mesma variável."
   ]
  },
  {
   "cell_type": "code",
   "execution_count": 32,
   "metadata": {},
   "outputs": [
    {
     "name": "stdout",
     "output_type": "stream",
     "text": [
      "120\n"
     ]
    }
   ],
   "source": [
    "agua=120\n",
    "print(agua)"
   ]
  },
  {
   "cell_type": "markdown",
   "metadata": {},
   "source": [
    "**Cuidado**:   Ao sobrescrever uma variável não é mostrado nenhum aviso e o valor antigo é perdido. Você pode sobrescrever com outro tipo de dado que pode gerar problemas."
   ]
  },
  {
   "cell_type": "code",
   "execution_count": 33,
   "metadata": {},
   "outputs": [
    {
     "ename": "TypeError",
     "evalue": "Can't convert 'int' object to str implicitly",
     "output_type": "error",
     "traceback": [
      "\u001b[0;31m---------------------------------------------------------------------------\u001b[0m",
      "\u001b[0;31mTypeError\u001b[0m                                 Traceback (most recent call last)",
      "\u001b[0;32m<ipython-input-33-a3a7d026bee7>\u001b[0m in \u001b[0;36m<module>\u001b[0;34m\u001b[0m\n\u001b[1;32m      1\u001b[0m \u001b[0magua\u001b[0m\u001b[0;34m=\u001b[0m\u001b[0;34m\"qualquer coisa\"\u001b[0m\u001b[0;34m\u001b[0m\u001b[0m\n\u001b[0;32m----> 2\u001b[0;31m \u001b[0magua\u001b[0m\u001b[0;34m+\u001b[0m\u001b[0;36m1\u001b[0m   \u001b[0;31m# vai gerar um erro pois agora \"agua\" guarda uma string e não mais um número.\u001b[0m\u001b[0;34m\u001b[0m\u001b[0m\n\u001b[0m",
      "\u001b[0;31mTypeError\u001b[0m: Can't convert 'int' object to str implicitly"
     ]
    }
   ],
   "source": [
    "agua=\"qualquer coisa\"\n",
    "agua+1   # vai gerar um erro pois agora \"agua\" guarda uma string e não mais um número."
   ]
  },
  {
   "cell_type": "markdown",
   "metadata": {},
   "source": [
    "### Escolhendo nomes para variáveis\n",
    "\n",
    "Os nomes para variáveis devem seguir algumas regras:\n",
    "\n",
    "- Tem que ser uma única palavra. Ex: \"agua\", \"ContaDeAgua\",\"QualquerCoisaDesdeJunta\"\n",
    "- Somente números, letras e o *underscore*  (\\_) podem ser usados, evitar uso de acentos Ex: \"Conta_de_agua\", \"Conta12\" , \"IFSP_ITQ\" \n",
    "- Não pode começar com número.\n",
    "\n",
    "Exemplos de nomes que não podem ser usados : \"balanco mensal\",\"balanco-mensal\",\"1balanco\", \"20\".\n",
    "\n",
    "**Escolha nomes informativos**\n",
    "\n",
    "Qualquer palavra vale como nome e por isso mesmo é comum as pessoas colocarem palavras curtas \"agua\" ou ainda usar apenas \"ag\" como nome de variável para valor da conta de água do mês. \n",
    "\n",
    "Isso pode parecer interessante para evitar ficar digitando várias vezes palavras longas. Porém é o caminho para a confusão. Depois de alguns dias (ás vezes minutos) você não lembra mais o que significa \"ag1m\" e vai perder um tempo enorme até você descobrir que era \"conta de água do mês de janeiro\". Por isso, tente colocar no nome da variável algo que facilite a identificação. Não precisa chamar a variável de \"conta_de_agua_do_mes_de_janeiro\" se colocar \"agua_jan\" já vai ajudar bastante.\n",
    "\n",
    "Você também pode escrever um comentário para não se perder usando o \\#\n"
   ]
  },
  {
   "cell_type": "code",
   "execution_count": 34,
   "metadata": {},
   "outputs": [],
   "source": [
    "\n",
    "agua_jan=100 # conta de água de janeiro de 2020 em reais\n",
    "pg_dia=10 # dia de vencimento"
   ]
  },
  {
   "cell_type": "markdown",
   "metadata": {},
   "source": [
    "## Conversor de dólares 2.0\n",
    "\n",
    "\n",
    "Ficar digitando todos os valores e todas as operações uma-a-uma é entendiante e pouco produtivo. Vamos criar um pequeno programa que vai calcular o valor do dólar de modo mais fácil. \n",
    "\n",
    "### Lista em Python\n",
    "   Em Python você pode agrupar valores em listas e guardar como uma única variável. Usando o nosso exemplo anterior podemos criar uma lista com os valores que queremos converter. Para isso é só colocá-los entre colchetes separando os valores por virgulas"
   ]
  },
  {
   "cell_type": "code",
   "execution_count": 35,
   "metadata": {},
   "outputs": [],
   "source": [
    "lista=[14.60 ,20.10, 31.00]"
   ]
  },
  {
   "cell_type": "markdown",
   "metadata": {},
   "source": [
    "Agora é só multiplicar a lista pelo valor de conversão \"d\"."
   ]
  },
  {
   "cell_type": "code",
   "execution_count": 36,
   "metadata": {},
   "outputs": [
    {
     "ename": "TypeError",
     "evalue": "can't multiply sequence by non-int of type 'float'",
     "output_type": "error",
     "traceback": [
      "\u001b[0;31m---------------------------------------------------------------------------\u001b[0m",
      "\u001b[0;31mTypeError\u001b[0m                                 Traceback (most recent call last)",
      "\u001b[0;32m<ipython-input-36-d57065b7e76b>\u001b[0m in \u001b[0;36m<module>\u001b[0;34m\u001b[0m\n\u001b[0;32m----> 1\u001b[0;31m \u001b[0mlista\u001b[0m\u001b[0;34m*\u001b[0m \u001b[0md\u001b[0m\u001b[0;34m\u001b[0m\u001b[0m\n\u001b[0m",
      "\u001b[0;31mTypeError\u001b[0m: can't multiply sequence by non-int of type 'float'"
     ]
    }
   ],
   "source": [
    "lista* d"
   ]
  },
  {
   "cell_type": "markdown",
   "metadata": {},
   "source": [
    "Não, isso não funciona! O motivo é que o Python interpreta uma lista de modo semelhante à string. Veja o que acontece quando você multiplica uma lista por um inteiro, soma a lista a outra lista"
   ]
  },
  {
   "cell_type": "code",
   "execution_count": 37,
   "metadata": {},
   "outputs": [
    {
     "data": {
      "text/plain": [
       "[14.6, 20.1, 31.0, 14.6, 20.1, 31.0, 14.6, 20.1, 31.0]"
      ]
     },
     "execution_count": 37,
     "metadata": {},
     "output_type": "execute_result"
    }
   ],
   "source": [
    "lista*3"
   ]
  },
  {
   "cell_type": "code",
   "execution_count": 38,
   "metadata": {},
   "outputs": [
    {
     "data": {
      "text/plain": [
       "[14.6, 20.1, 31.0, 14.6, 20.1, 31.0]"
      ]
     },
     "execution_count": 38,
     "metadata": {},
     "output_type": "execute_result"
    }
   ],
   "source": [
    "lista+lista"
   ]
  },
  {
   "cell_type": "markdown",
   "metadata": {},
   "source": [
    "Para fazer esta operação é necessário dizer para o Python que você quer multiplicar cada valor da lista por \"d\". O modo de fazer isso é repetir a multiplicação para cada elemento da lista. Para isso usamos a função \"for\"."
   ]
  },
  {
   "cell_type": "code",
   "execution_count": 39,
   "metadata": {},
   "outputs": [
    {
     "name": "stdout",
     "output_type": "stream",
     "text": [
      "49.64\n",
      "68.34\n",
      "105.39999999999999\n"
     ]
    }
   ],
   "source": [
    "for elemento in lista: print(elemento*d)"
   ]
  },
  {
   "cell_type": "markdown",
   "metadata": {},
   "source": [
    "A última linha de código pode ser lida como \"para cada 'elemento' presente em 'lista' imprima faça 'elemento \\*d'e imprima o resultado na tela\"."
   ]
  },
  {
   "cell_type": "markdown",
   "metadata": {},
   "source": [
    "Podemos gerar listas de vários modos diferentes. Acima nós digitamos os valores que queriamos converter mas podemos gerar uma lista fornecendo apenas algumas informações. Isso pode ser feito usando a função range().\n"
   ]
  },
  {
   "cell_type": "code",
   "execution_count": 40,
   "metadata": {},
   "outputs": [
    {
     "name": "stdout",
     "output_type": "stream",
     "text": [
      "0\n",
      "1\n",
      "2\n",
      "3\n",
      "4\n",
      "5\n",
      "6\n",
      "7\n",
      "8\n",
      "9\n"
     ]
    }
   ],
   "source": [
    "for elemento in range(10): print(elemento)"
   ]
  },
  {
   "cell_type": "markdown",
   "metadata": {},
   "source": [
    "Neste caso usamos a função range para gerar a lista e imprimimos cada elemento da lista na tela. A função range(10) gera uma lista de 10 valores começando com 0, podemos alterar o tamanho da lista mudando os números que colocamos dentro dos parenteses. De modo geral a função range pode ser usada como:  range( número inicial, número final, acrescimo)\n",
    "\n",
    "Veja os próximos exemplos para entender melhor:"
   ]
  },
  {
   "cell_type": "code",
   "execution_count": 41,
   "metadata": {},
   "outputs": [
    {
     "name": "stdout",
     "output_type": "stream",
     "text": [
      "10\n",
      "12\n",
      "14\n",
      "16\n",
      "18\n"
     ]
    }
   ],
   "source": [
    "for elemento in range(10,20,2): print(elemento)"
   ]
  },
  {
   "cell_type": "code",
   "execution_count": 42,
   "metadata": {},
   "outputs": [
    {
     "name": "stdout",
     "output_type": "stream",
     "text": [
      "20\n",
      "18\n",
      "16\n",
      "14\n",
      "12\n"
     ]
    }
   ],
   "source": [
    "for elemento in range(20,10,-2): print(elemento)"
   ]
  },
  {
   "cell_type": "markdown",
   "metadata": {},
   "source": [
    "Para gerar a conversão de Dólares para Reais entre US\\$ 10 e \n",
    "US\\$100 de 10 em 10 podemos usar. A função range não aceita ponto flutuante. "
   ]
  },
  {
   "cell_type": "code",
   "execution_count": 43,
   "metadata": {},
   "outputs": [
    {
     "name": "stdout",
     "output_type": "stream",
     "text": [
      "34.0\n",
      "68.0\n",
      "102.0\n",
      "136.0\n",
      "170.0\n",
      "204.0\n",
      "238.0\n",
      "272.0\n",
      "306.0\n"
     ]
    }
   ],
   "source": [
    "for elemento in range(10,100,10): print(elemento*d)"
   ]
  },
  {
   "cell_type": "markdown",
   "metadata": {},
   "source": [
    "Se quisermos colocar o valor em Reais do lado basta colocar dentro da função print"
   ]
  },
  {
   "cell_type": "code",
   "execution_count": 44,
   "metadata": {},
   "outputs": [
    {
     "name": "stdout",
     "output_type": "stream",
     "text": [
      "10 34.0\n",
      "20 68.0\n",
      "30 102.0\n",
      "40 136.0\n",
      "50 170.0\n",
      "60 204.0\n",
      "70 238.0\n",
      "80 272.0\n",
      "90 306.0\n"
     ]
    }
   ],
   "source": [
    "for elemento in range(10,100,10): print(elemento, elemento*d)"
   ]
  },
  {
   "cell_type": "markdown",
   "metadata": {},
   "source": [
    "### Deixando a tabela mais legível\n",
    "\n",
    "Fizemos a tabela que pode converter os valores mas ela ainda é dificil de ler. Podemos melhorar a forma que ela é impressa na tela. A função print pode ser manipulada para imprimir praticamente qualquer coisa na tela."
   ]
  },
  {
   "cell_type": "code",
   "execution_count": 45,
   "metadata": {},
   "outputs": [
    {
     "name": "stdout",
     "output_type": "stream",
     "text": [
      "QuAquEr CoIsa MeSmO\n"
     ]
    }
   ],
   "source": [
    "print(\"QuAquEr CoIsa MeSmO\")"
   ]
  },
  {
   "cell_type": "markdown",
   "metadata": {},
   "source": [
    "Para imprimir frases que misturem valores de váriaveis com frases explicativas é necessário  usar um formato especial. Se quiseremos imprimir a taxa de câmbio poderiamos fazer:  "
   ]
  },
  {
   "cell_type": "code",
   "execution_count": 46,
   "metadata": {},
   "outputs": [
    {
     "name": "stdout",
     "output_type": "stream",
     "text": [
      "taxa de cambio é:\n",
      "3.4\n",
      "Reais\n"
     ]
    }
   ],
   "source": [
    "print(\"taxa de cambio é:\")\n",
    "print(d)\n",
    "print (\"Reais\")"
   ]
  },
  {
   "cell_type": "markdown",
   "metadata": {},
   "source": [
    "Porém seria mais elegante imprimir tudo em um única linha formatando melhor. Para isso podemos:"
   ]
  },
  {
   "cell_type": "code",
   "execution_count": 47,
   "metadata": {},
   "outputs": [
    {
     "name": "stdout",
     "output_type": "stream",
     "text": [
      "A taxa de câmbio é 3.400000 Reias\n"
     ]
    }
   ],
   "source": [
    "print(\"A taxa de câmbio é %f Reais\"  %(d))"
   ]
  },
  {
   "cell_type": "markdown",
   "metadata": {},
   "source": [
    "Dentro dos parenteses da função print vai a sentença que você quer imprimir e no lugar que o valor vai ser exibido você coloca um marcador \\%f fecha as aspas e depois você declara quais são as variáveis que serão usadas em ordem depois do %.\n",
    "\n",
    "O marcador pode ser de vários tipos: \\%d se o valor for inteiro, \\%s se for string e \\%f se for com casas decimais. Uma dica importante é que você pode regular quantas casas decimais você quer que seja impresso."
   ]
  },
  {
   "cell_type": "code",
   "execution_count": 48,
   "metadata": {},
   "outputs": [
    {
     "name": "stdout",
     "output_type": "stream",
     "text": [
      "A taxa de câmbio é 3 Reias\n"
     ]
    }
   ],
   "source": [
    "print(\"A taxa de câmbio é %d Reais\"  %(d))"
   ]
  },
  {
   "cell_type": "code",
   "execution_count": null,
   "metadata": {},
   "outputs": [],
   "source": [
    "print(\"A taxa de câmbio é %.2f Reais\"  %(d))"
   ]
  },
  {
   "cell_type": "code",
   "execution_count": null,
   "metadata": {},
   "outputs": [],
   "source": [
    "for elemento in range(10,100,10): print('US$ %.2f = R$ %.2f' % (elemento,elemento*d))"
   ]
  },
  {
   "cell_type": "markdown",
   "metadata": {},
   "source": [
    "Um último efeite é alinhar os pontos decimais. Para isso criamos espaçamantos obrigatórios para antes e depois do ponto. Vamos colocar uma linha de separação."
   ]
  },
  {
   "cell_type": "code",
   "execution_count": null,
   "metadata": {},
   "outputs": [],
   "source": [
    "for elemento in range(1,100,10): \n",
    "    print('US$ %5.2f = R$ %6.2f' % (elemento,elemento*d))\n",
    "    print(\"-\"*25)"
   ]
  },
  {
   "cell_type": "markdown",
   "metadata": {},
   "source": [
    "# Primeiro programa interativo\n",
    "\n",
    "  Agora vamos criar um pequeno programa interativo"
   ]
  },
  {
   "cell_type": "code",
   "execution_count": 49,
   "metadata": {},
   "outputs": [
    {
     "name": "stdout",
     "output_type": "stream",
     "text": [
      "Bom dia!\n",
      "Qual o teu nome?\n"
     ]
    },
    {
     "name": "stdin",
     "output_type": "stream",
     "text": [
      " carlos\n"
     ]
    },
    {
     "name": "stdout",
     "output_type": "stream",
     "text": [
      "É um prazer te conhecer, carlos\n",
      "O comprimento do teu nome é:\n",
      "6\n",
      "Qual é tua idade\n"
     ]
    },
    {
     "name": "stdin",
     "output_type": "stream",
     "text": [
      " 40\n"
     ]
    },
    {
     "name": "stdout",
     "output_type": "stream",
     "text": [
      "Você vai ter 41  anos em um ano.\n"
     ]
    }
   ],
   "source": [
    "## programa de boas vindas\n",
    "print('Bom dia!')\n",
    "print('Qual o teu nome?') # pergunta o nome\n",
    "myName= input() \n",
    "print('É um prazer te conhecer, ' + myName)\n",
    "print('O comprimento do teu nome é:')\n",
    "print(len(myName))\n",
    "print('Qual é tua idade')  # pergunta a idade\n",
    "myAge = input()\n",
    "print('Você vai ter ' + str(int(myAge) + 1) + \"  anos em um ano.\")"
   ]
  },
  {
   "cell_type": "markdown",
   "metadata": {},
   "source": [
    "Desta vez o programa interage com o usuário peguntando coisas para serem computadas. No final ele para e sai. Há algumas coisas interessantes para serem comentadas.\n",
    "\n",
    "  A primeira linha  \"## programa de boas vindas\" é um comentário. O Python não lê esta linha e em nada muda a execussão do programa. Linhas de comentários são muitos úteis para anotar detalhes sobre o código facilitando a manutenção do programa. \n",
    "  A função print() é utilizadada mesma forma que usamos antes. A função input() é a que gera a interação com o usuário esperando que o usuário tecle algo e depois ENTER. O valor digitado é guardado na variável a esquerda dessa função como uma string.\n",
    "  A função len() conta o número de elementos de uma string retornando um número que é passado para a função print() imprimindo o comprimento do nome."
   ]
  },
  {
   "cell_type": "markdown",
   "metadata": {},
   "source": [
    "#### Converter tipos de dados\n",
    "Como o valor myAge é uma string e não é possível somar nada a um string é necessário converter a string em inteiros."
   ]
  },
  {
   "cell_type": "code",
   "execution_count": null,
   "metadata": {},
   "outputs": [],
   "source": [
    "int(myAge)+1"
   ]
  },
  {
   "cell_type": "markdown",
   "metadata": {},
   "source": [
    "Para conseguir concatenar a nova idade poderiamos fazer do jeito apresentado acima convertendo a nova idade em string novamente com o int()"
   ]
  },
  {
   "cell_type": "code",
   "execution_count": null,
   "metadata": {},
   "outputs": [],
   "source": [
    "print('Você vai ter ' + str(int(myAge) + 1) + \"  anos em um ano.\")"
   ]
  },
  {
   "cell_type": "markdown",
   "metadata": {},
   "source": [
    "Sem fazer conversão, tratando como um valor inteiro."
   ]
  },
  {
   "cell_type": "code",
   "execution_count": null,
   "metadata": {},
   "outputs": [],
   "source": [
    "print('Você vai ter %d anos em um ano.' %(int(myAge) + 1))"
   ]
  },
  {
   "cell_type": "markdown",
   "metadata": {},
   "source": [
    "Muitas funções são usadas para converter valores:"
   ]
  },
  {
   "cell_type": "code",
   "execution_count": null,
   "metadata": {},
   "outputs": [],
   "source": [
    "spam=\"101\" # spam guarda o valor 101 como string\n",
    "spam+1   # vai gerar erro"
   ]
  },
  {
   "cell_type": "code",
   "execution_count": null,
   "metadata": {},
   "outputs": [],
   "source": [
    "# usando a função int() para resolver este problema\n",
    "int(spam)+1"
   ]
  },
  {
   "cell_type": "code",
   "execution_count": null,
   "metadata": {},
   "outputs": [],
   "source": [
    "# e você pode até mesmo substituir o spam string por um spam número\n",
    "spam=int(spam)\n",
    "spam*5/20"
   ]
  },
  {
   "cell_type": "code",
   "execution_count": null,
   "metadata": {},
   "outputs": [],
   "source": [
    "# Se quiser o resultado também em interios é só pedir\n",
    "spam=int(spam)\n",
    "int(spam*5/20)"
   ]
  },
  {
   "cell_type": "markdown",
   "metadata": {},
   "source": [
    "# Exercicios\n",
    "\n",
    "  Do mesmo modo que fizemos a tabela de conversão de valores entre Dólares e Reias faça uma tabela de conversão de temperaturas Celsius, Faheneit e Kelvin entre -20 C até 130 C de 15 em 15 pontos."
   ]
  },
  {
   "cell_type": "code",
   "execution_count": null,
   "metadata": {
    "slideshow": {
     "slide_type": "slide"
    }
   },
   "outputs": [],
   "source": []
  }
 ],
 "metadata": {
  "kernelspec": {
   "display_name": "py3",
   "language": "python",
   "name": "py3"
  },
  "language_info": {
   "codemirror_mode": {
    "name": "ipython",
    "version": 3
   },
   "file_extension": ".py",
   "mimetype": "text/x-python",
   "name": "python",
   "nbconvert_exporter": "python",
   "pygments_lexer": "ipython3",
   "version": "3.5.2"
  }
 },
 "nbformat": 4,
 "nbformat_minor": 2
}
